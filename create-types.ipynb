{
 "cells": [
  {
   "cell_type": "markdown",
   "metadata": {
    "deletable": true,
    "editable": true
   },
   "source": [
    "# Notebook για την παραγωγή των δεδομένων N-Triples (1η εργασία).\n",
    "\n",
    "Χρησιμοποιήστε τον κώδικα από το [notebook του 5ου εργαστηρίου](https://github.com/mixstef/courses/blob/master/pms-swp/schedule4.ipynb) με τις κατάλληλες αλλαγές για να φτιάξετε το αρχείο `schedule-data.nt` της **1ης εργασίας**.\n",
    "\n",
    "Προσθέστε τον κώδικά σας στα επόμενα κελιά."
   ]
  },
  {
   "cell_type": "code",
   "execution_count": 5,
   "metadata": {
    "collapsed": false,
    "deletable": true,
    "editable": true
   },
   "outputs": [
    {
     "name": "stdout",
     "output_type": "stream",
     "text": [
      "_:bnode0 <http://www.w3.org/1999/02/22-rdf-syntax-ns#type> <http://dilab77.ionio.gr/swp/toulker/vocab#Διάλεξη> .\n",
      "_:bnode0 <http://dilab77.ionio.gr/swp/toulker/vocab#Ημέρα> \"ΔΕΥΤEΡΑ\" .\n",
      "_:bnode0 <http://dilab77.ionio.gr/swp/toulker/vocab#Έναρξη> \"18:00:00\"^^<http://www.w3.org/2001/XMLSchema#time> .\n",
      "_:bnode0 <http://dilab77.ionio.gr/swp/toulker/vocab#Λήξη> \"21:00:00\"^^<http://www.w3.org/2001/XMLSchema#time> .\n",
      "<http://dilab77.ionio.gr/swp/toulker/resource/ΜΑΓΚΟΣ%20ΤΣΩΧΟΥ%20ΧΡΥΣΙΚOΠΟΥΛΟΣ> <http://www.w3.org/1999/02/22-rdf-syntax-ns#type> <http://dilab77.ionio.gr/swp/toulker/vocab#Διδάσκων> .\n",
      "_:bnode0 <http://dilab77.ionio.gr/swp/toulker/vocab#Διδάσκων> <http://dilab77.ionio.gr/swp/toulker/resource/ΜΑΓΚΟΣ%20ΤΣΩΧΟΥ%20ΧΡΥΣΙΚOΠΟΥΛΟΣ> .\n",
      "<http://dilab77.ionio.gr/swp/toulker/resource/ΑΙΘΟΥΣΑ%20ΠΜΣ%20ΚΤΙΡΙΟ%20ΓΑΛΗΝΟΣ> <http://www.w3.org/1999/02/22-rdf-syntax-ns#type> <http://dilab77.ionio.gr/swp/toulker/vocab#Αίθουσα> .\n",
      "_:bnode0 <http://dilab77.ionio.gr/swp/toulker/vocab#Άιθουσα> <http://dilab77.ionio.gr/swp/toulker/resource/ΑΙΘΟΥΣΑ%20ΠΜΣ%20ΚΤΙΡΙΟ%20ΓΑΛΗΝΟΣ> .\n",
      "_:bnode0 <http://dilab77.ionio.gr/swp/toulker/vocab#Εξάμηνο> \"Β\" .\n",
      "<http://dilab77.ionio.gr/swp/toulker/resource/ΑΣΦΑΛΕΙΑ%20ΠΛΗΡΟΦΟΡΙΑΚΩΝ%20ΣΥΣΤΗΜΑΤΩΝ%20ΚΑΙ%20ΔΙΚΤΎΩΝ> <http://www.w3.org/1999/02/22-rdf-syntax-ns#type> <http://dilab77.ionio.gr/swp/toulker/vocab#Μάθημα> .\n",
      "_:bnode0 <http://dilab77.ionio.gr/swp/toulker/vocab#Μάθημα> <http://dilab77.ionio.gr/swp/toulker/resource/ΑΣΦΑΛΕΙΑ%20ΠΛΗΡΟΦΟΡΙΑΚΩΝ%20ΣΥΣΤΗΜΑΤΩΝ%20ΚΑΙ%20ΔΙΚΤΎΩΝ> .\n",
      "_:bnode1 <http://www.w3.org/1999/02/22-rdf-syntax-ns#type> <http://dilab77.ionio.gr/swp/toulker/vocab#Διάλεξη> .\n",
      "_:bnode1 <http://dilab77.ionio.gr/swp/toulker/vocab#Ημέρα> \"ΤΡΙΤΗ\" .\n",
      "_:bnode1 <http://dilab77.ionio.gr/swp/toulker/vocab#Έναρξη> \"15:00:00\"^^<http://www.w3.org/2001/XMLSchema#time> .\n",
      "_:bnode1 <http://dilab77.ionio.gr/swp/toulker/vocab#Λήξη> \"18:00:00\"^^<http://www.w3.org/2001/XMLSchema#time> .\n",
      "<http://dilab77.ionio.gr/swp/toulker/resource/ΣΤΕΦΑΝΙΔΑΚΗΣ> <http://www.w3.org/1999/02/22-rdf-syntax-ns#type> <http://dilab77.ionio.gr/swp/toulker/vocab#Διδάσκων> .\n",
      "_:bnode1 <http://dilab77.ionio.gr/swp/toulker/vocab#Διδάσκων> <http://dilab77.ionio.gr/swp/toulker/resource/ΣΤΕΦΑΝΙΔΑΚΗΣ> .\n",
      "<http://dilab77.ionio.gr/swp/toulker/resource/ΕΡΓΑΣΤΗΡΙΟ%203%20ΚΤΙΡΙΟ%20ΑΡΕΤΑΙΟΣ> <http://www.w3.org/1999/02/22-rdf-syntax-ns#type> <http://dilab77.ionio.gr/swp/toulker/vocab#Αίθουσα> .\n",
      "_:bnode1 <http://dilab77.ionio.gr/swp/toulker/vocab#Άιθουσα> <http://dilab77.ionio.gr/swp/toulker/resource/ΕΡΓΑΣΤΗΡΙΟ%203%20ΚΤΙΡΙΟ%20ΑΡΕΤΑΙΟΣ> .\n",
      "_:bnode1 <http://dilab77.ionio.gr/swp/toulker/vocab#Εξάμηνο> \"Β\" .\n",
      "<http://dilab77.ionio.gr/swp/toulker/resource/ΠΡΟΓΡΑΜΜΑΤΙΣΜΟΣ%20ΣΗΜΑΣΙΟΛΟΓΙΚΟY%20ΙΣΤOY> <http://www.w3.org/1999/02/22-rdf-syntax-ns#type> <http://dilab77.ionio.gr/swp/toulker/vocab#Μάθημα> .\n",
      "_:bnode1 <http://dilab77.ionio.gr/swp/toulker/vocab#Μάθημα> <http://dilab77.ionio.gr/swp/toulker/resource/ΠΡΟΓΡΑΜΜΑΤΙΣΜΟΣ%20ΣΗΜΑΣΙΟΛΟΓΙΚΟY%20ΙΣΤOY> .\n",
      "_:bnode2 <http://www.w3.org/1999/02/22-rdf-syntax-ns#type> <http://dilab77.ionio.gr/swp/toulker/vocab#Διάλεξη> .\n",
      "_:bnode2 <http://dilab77.ionio.gr/swp/toulker/vocab#Ημέρα> \"ΤΡΙΤΗ\" .\n",
      "_:bnode2 <http://dilab77.ionio.gr/swp/toulker/vocab#Έναρξη> \"18:00:00\"^^<http://www.w3.org/2001/XMLSchema#time> .\n",
      "_:bnode2 <http://dilab77.ionio.gr/swp/toulker/vocab#Λήξη> \"21:00:00\"^^<http://www.w3.org/2001/XMLSchema#time> .\n",
      "<http://dilab77.ionio.gr/swp/toulker/resource/ΑΥΛΩΝΙΤΗΣ> <http://www.w3.org/1999/02/22-rdf-syntax-ns#type> <http://dilab77.ionio.gr/swp/toulker/vocab#Διδάσκων> .\n",
      "_:bnode2 <http://dilab77.ionio.gr/swp/toulker/vocab#Διδάσκων> <http://dilab77.ionio.gr/swp/toulker/resource/ΑΥΛΩΝΙΤΗΣ> .\n",
      "<http://dilab77.ionio.gr/swp/toulker/resource/ΑΙΘΟΥΣΑ%20ΠΜΣ%20ΚΤΊΡΙΟ%20ΓΑΛΗΝΟΣ> <http://www.w3.org/1999/02/22-rdf-syntax-ns#type> <http://dilab77.ionio.gr/swp/toulker/vocab#Αίθουσα> .\n",
      "_:bnode2 <http://dilab77.ionio.gr/swp/toulker/vocab#Άιθουσα> <http://dilab77.ionio.gr/swp/toulker/resource/ΑΙΘΟΥΣΑ%20ΠΜΣ%20ΚΤΊΡΙΟ%20ΓΑΛΗΝΟΣ> .\n",
      "_:bnode2 <http://dilab77.ionio.gr/swp/toulker/vocab#Εξάμηνο> \"Β\" .\n",
      "<http://dilab77.ionio.gr/swp/toulker/resource/ΠΡΟΣΟΜΟΙΩΣΗ%20ΚΑΙ%20ΜΟΝΤΕΛΟΠΟΙΗΣΗ> <http://www.w3.org/1999/02/22-rdf-syntax-ns#type> <http://dilab77.ionio.gr/swp/toulker/vocab#Μάθημα> .\n",
      "_:bnode2 <http://dilab77.ionio.gr/swp/toulker/vocab#Μάθημα> <http://dilab77.ionio.gr/swp/toulker/resource/ΠΡΟΣΟΜΟΙΩΣΗ%20ΚΑΙ%20ΜΟΝΤΕΛΟΠΟΙΗΣΗ> .\n",
      "_:bnode3 <http://www.w3.org/1999/02/22-rdf-syntax-ns#type> <http://dilab77.ionio.gr/swp/toulker/vocab#Διάλεξη> .\n",
      "_:bnode3 <http://dilab77.ionio.gr/swp/toulker/vocab#Ημέρα> \"ΠEΜΠΤΗ\" .\n",
      "_:bnode3 <http://dilab77.ionio.gr/swp/toulker/vocab#Έναρξη> \"15:00:00\"^^<http://www.w3.org/2001/XMLSchema#time> .\n",
      "_:bnode3 <http://dilab77.ionio.gr/swp/toulker/vocab#Λήξη> \"18:00:00\"^^<http://www.w3.org/2001/XMLSchema#time> .\n",
      "<http://dilab77.ionio.gr/swp/toulker/resource/ΜΥΛΩΝΑΣ> <http://www.w3.org/1999/02/22-rdf-syntax-ns#type> <http://dilab77.ionio.gr/swp/toulker/vocab#Διδάσκων> .\n",
      "_:bnode3 <http://dilab77.ionio.gr/swp/toulker/vocab#Διδάσκων> <http://dilab77.ionio.gr/swp/toulker/resource/ΜΥΛΩΝΑΣ> .\n",
      "_:bnode3 <http://dilab77.ionio.gr/swp/toulker/vocab#Άιθουσα> <http://dilab77.ionio.gr/swp/toulker/resource/ΑΙΘΟΥΣΑ%20ΠΜΣ%20ΚΤΙΡΙΟ%20ΓΑΛΗΝΟΣ> .\n",
      "_:bnode3 <http://dilab77.ionio.gr/swp/toulker/vocab#Εξάμηνο> \"Β\" .\n",
      "<http://dilab77.ionio.gr/swp/toulker/resource/ΕΞΟΡΥΞΗ%20ΔΕΔΟΜΕΝΩΝ%20ΚΑΙ%20ΔΙΑΧΕΙΡΙΣΗ%20ΓΝΩΣΗΣ> <http://www.w3.org/1999/02/22-rdf-syntax-ns#type> <http://dilab77.ionio.gr/swp/toulker/vocab#Μάθημα> .\n",
      "_:bnode3 <http://dilab77.ionio.gr/swp/toulker/vocab#Μάθημα> <http://dilab77.ionio.gr/swp/toulker/resource/ΕΞΟΡΥΞΗ%20ΔΕΔΟΜΕΝΩΝ%20ΚΑΙ%20ΔΙΑΧΕΙΡΙΣΗ%20ΓΝΩΣΗΣ> .\n",
      "_:bnode4 <http://www.w3.org/1999/02/22-rdf-syntax-ns#type> <http://dilab77.ionio.gr/swp/toulker/vocab#Διάλεξη> .\n",
      "_:bnode4 <http://dilab77.ionio.gr/swp/toulker/vocab#Ημέρα> \"ΠEΜΠΤΗ\" .\n",
      "_:bnode4 <http://dilab77.ionio.gr/swp/toulker/vocab#Έναρξη> \"18:00:00\"^^<http://www.w3.org/2001/XMLSchema#time> .\n",
      "_:bnode4 <http://dilab77.ionio.gr/swp/toulker/vocab#Λήξη> \"21:00:00\"^^<http://www.w3.org/2001/XMLSchema#time> .\n",
      "<http://dilab77.ionio.gr/swp/toulker/resource/ΒΛΑΜΟΣ> <http://www.w3.org/1999/02/22-rdf-syntax-ns#type> <http://dilab77.ionio.gr/swp/toulker/vocab#Διδάσκων> .\n",
      "_:bnode4 <http://dilab77.ionio.gr/swp/toulker/vocab#Διδάσκων> <http://dilab77.ionio.gr/swp/toulker/resource/ΒΛΑΜΟΣ> .\n",
      "_:bnode4 <http://dilab77.ionio.gr/swp/toulker/vocab#Άιθουσα> <http://dilab77.ionio.gr/swp/toulker/resource/ΑΙΘΟΥΣΑ%20ΠΜΣ%20ΚΤΙΡΙΟ%20ΓΑΛΗΝΟΣ> .\n",
      "_:bnode4 <http://dilab77.ionio.gr/swp/toulker/vocab#Εξάμηνο> \"Β\" .\n",
      "<http://dilab77.ionio.gr/swp/toulker/resource/ΠΛΗΡΟΦΟΡΙΚΗ%20ΣΤΗΝ%20ΕΚΠΑΙΔΕΥΣΗ> <http://www.w3.org/1999/02/22-rdf-syntax-ns#type> <http://dilab77.ionio.gr/swp/toulker/vocab#Μάθημα> .\n",
      "_:bnode4 <http://dilab77.ionio.gr/swp/toulker/vocab#Μάθημα> <http://dilab77.ionio.gr/swp/toulker/resource/ΠΛΗΡΟΦΟΡΙΚΗ%20ΣΤΗΝ%20ΕΚΠΑΙΔΕΥΣΗ> .\n"
     ]
    }
   ],
   "source": [
    "import csv\n",
    "\n",
    "# εισαγωγή δεδομένων\n",
    "triples = []\n",
    "with open('myuris.csv','r',newline='') as ifp:\n",
    "    reader = csv.reader(ifp)\n",
    "    for row in reader:\n",
    "        triples.append(row)\n",
    "\n",
    "# fix objects (literals and uris)\n",
    "visited = set()\n",
    "triples2 = []\n",
    "line = 1\n",
    "rdfpred= \"<http://www.w3.org/1999/02/22-rdf-syntax-ns#type>\"\n",
    "for s,p,o in triples:    \n",
    "    #fix subjects\n",
    "    s = \"_:bnode\" +  s[2]\n",
    "    # add RDF declarations for subjects, once !\n",
    "    if s not in visited:        \n",
    "        dial = \"<http://dilab77.ionio.gr/swp/toulker/vocab#Διάλεξη>\"\n",
    "        triples2.append('{} {} {} .'.format(s, rdfpred, dial))\n",
    "        visited.add(s)\n",
    "    \n",
    "    # fix URI predicates\n",
    "    p = '<'+ p + '>'    \n",
    "\n",
    "    # fix all objects    \n",
    "    if o.endswith(\":00\"):\n",
    "        o1 = o[2:] + \":00\"\n",
    "        o2 = \"^^<http://www.w3.org/2001/XMLSchema#time>\"\n",
    "        o = '\"{}\"{}'.format(o1,o2)\n",
    "    elif o[:45] == 'http://dilab77.ionio.gr/swp/toulker/resource/':\n",
    "        o = \"<\" + o + \">\"\n",
    "        if o not in visited and line in set([4,11,18,25,32]):                            \n",
    "            type1 = \"<http://dilab77.ionio.gr/swp/toulker/vocab#Διδάσκων>\"\n",
    "            triples2.append('{} {} {} .'.format(o, rdfpred, type1))            \n",
    "        if o not in visited and line in set([5,12,19,26,33]):                                \n",
    "            type2 = \"<http://dilab77.ionio.gr/swp/toulker/vocab#Αίθουσα>\"\n",
    "            triples2.append('{} {} {} .'.format(o, rdfpred, type2))                        \n",
    "        if o not in visited and line in set([7,14,21,28,35]):\n",
    "            type3 = \"<http://dilab77.ionio.gr/swp/toulker/vocab#Μάθημα>\"\n",
    "            triples2.append('{} {} {} .'.format(o, rdfpred, type3))            \n",
    "        visited.add(o)                    \n",
    "    else:\n",
    "       o = '\"{}\"'.format(o[2:])\n",
    "\n",
    "    # add triple to new list\n",
    "    triples2.append('{} {} {} .'.format(s,p,o))\n",
    "    line += 1\n",
    "#print(triples2)\n",
    "\n",
    "# αποθήκευση δεδομένων\n",
    "with open('schedule-data.nt','w',newline='') as ofp:\n",
    "    for row in triples2:\n",
    "        ofp.write(row + '\\n')\n",
    "        print(row)"
   ]
  },
  {
   "cell_type": "code",
   "execution_count": null,
   "metadata": {
    "collapsed": true,
    "deletable": true,
    "editable": true
   },
   "outputs": [],
   "source": []
  }
 ],
 "metadata": {
  "kernelspec": {
   "display_name": "Python 3",
   "language": "python",
   "name": "python3"
  },
  "language_info": {
   "codemirror_mode": {
    "name": "ipython",
    "version": 3
   },
   "file_extension": ".py",
   "mimetype": "text/x-python",
   "name": "python",
   "nbconvert_exporter": "python",
   "pygments_lexer": "ipython3",
   "version": "3.5.2"
  }
 },
 "nbformat": 4,
 "nbformat_minor": 0
}
